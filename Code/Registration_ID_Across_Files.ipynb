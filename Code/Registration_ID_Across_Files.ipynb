{
 "cells": [
  {
   "cell_type": "code",
   "execution_count": 81,
   "metadata": {},
   "outputs": [],
   "source": [
    "import pandas as pd\n",
    "import numpy as np\n",
    "import matplotlib.pyplot as plt\n",
    "import seaborn as sns\n",
    "import glob\n",
    "import helper_import_path "
   ]
  },
  {
   "cell_type": "markdown",
   "metadata": {},
   "source": [
    "#### Original request data"
   ]
  },
  {
   "cell_type": "code",
   "execution_count": 82,
   "metadata": {},
   "outputs": [],
   "source": [
    "#loop through above path and get all the reg ids\n",
    "reg_ids = []\n",
    "for filepath in glob.glob('./../Data/original_req_off_'+'[0-9]*'+'_lim_10000.csv'):\n",
    "    reg_ids.extend(pd.read_csv(filepath)['registration_no'].apply(lambda x:x.rstrip()))\n",
    "    "
   ]
  },
  {
   "cell_type": "code",
   "execution_count": 83,
   "metadata": {},
   "outputs": [
    {
     "name": "stdout",
     "output_type": "stream",
     "text": [
      "222129\n"
     ]
    }
   ],
   "source": [
    "print(len(set(reg_ids)))\n",
    "#reg_ids "
   ]
  },
  {
   "cell_type": "markdown",
   "metadata": {},
   "source": [
    "#### Request Movement data"
   ]
  },
  {
   "cell_type": "code",
   "execution_count": 84,
   "metadata": {},
   "outputs": [
    {
     "name": "stdout",
     "output_type": "stream",
     "text": [
      "32890\n"
     ]
    }
   ],
   "source": [
    "reg_all_mov_ids = []\n",
    "for filepath in glob.glob('./../Data/req_movement_off_'+'[0-9]*'+'_lim_10000.csv'):\n",
    "    reg_all_mov_ids.extend(pd.read_csv(filepath)['registration_no'].apply(lambda x:x.rstrip()))\n",
    "\n",
    "print(len(set(reg_all_mov_ids)))"
   ]
  },
  {
   "cell_type": "markdown",
   "metadata": {},
   "source": [
    "#### Registration ID for which request movement data is available."
   ]
  },
  {
   "cell_type": "code",
   "execution_count": 85,
   "metadata": {},
   "outputs": [
    {
     "name": "stdout",
     "output_type": "stream",
     "text": [
      "189255\n"
     ]
    }
   ],
   "source": [
    "print(len(set(reg_ids) - set(reg_all_mov_ids)))"
   ]
  },
  {
   "cell_type": "markdown",
   "metadata": {},
   "source": [
    "#### Create the data for selected Action req"
   ]
  },
  {
   "cell_type": "code",
   "execution_count": 86,
   "metadata": {},
   "outputs": [],
   "source": [
    "def selecting_req_data_for_action(data_request_movement_df,read_offset,read_limit,\n",
    "                                  single_action =True,\n",
    "                                  single_action_name='EXAMINED AT OUR LEVEL',\n",
    "                                  selected_action_list=['INTERIM REPLY TO COMPLAINANT','CASE DISPOSED OF','CASE REPORT SENT AND DISPOSED LOCALLY ','EXAMINED AT OUR LEVEL']):\n",
    "\n",
    "    if single_action:\n",
    "        ## Selecting single action data only Only\n",
    "        new_action_df = data_request_movement_df.loc[(data_request_movement_df['action_name'] == single_action_name)]\n",
    "        #new_df.head(20)\n",
    "        new_action_df['registration_no'] = new_action_df['registration_no'].apply(lambda x:x.rstrip())\n",
    "        new_action_df.to_csv(\"../Data/req_movement_EAOL_off_\"+str(read_offset)+\"_lim_\"+str(read_limit)+\".csv\",index=False)\n",
    "    else:\n",
    "        ## Selecting Multiple actions. Stores 1 file corresponding to each req_movement file\n",
    "        new_action_df = data_request_movement_df.loc[(data_request_movement_df['action_name'].apply(lambda x:x in selected_action_list))]\n",
    "        new_action_df['registration_no'] = new_action_df['registration_no'].apply(lambda x:x.rstrip())\n",
    "        new_action_df.to_csv(\"../Data/req_movement_sel_action_off_\"+str(read_offset)+\"_lim_\"+str(read_limit)+\".csv\",index=False)\n",
    "    return new_action_df"
   ]
  },
  {
   "cell_type": "code",
   "execution_count": 87,
   "metadata": {},
   "outputs": [
    {
     "name": "stderr",
     "output_type": "stream",
     "text": [
      "/Users/ankita.bhatia/anaconda3/lib/python3.7/site-packages/ipykernel_launcher.py:15: SettingWithCopyWarning: \n",
      "A value is trying to be set on a copy of a slice from a DataFrame.\n",
      "Try using .loc[row_indexer,col_indexer] = value instead\n",
      "\n",
      "See the caveats in the documentation: http://pandas.pydata.org/pandas-docs/stable/indexing.html#indexing-view-versus-copy\n",
      "  from ipykernel import kernelapp as app\n"
     ]
    },
    {
     "name": "stdout",
     "output_type": "stream",
     "text": [
      "Rows of interest (1877, 8)\n",
      "Rows of interest (1255, 8)\n",
      "Rows of interest (1386, 8)\n",
      "Rows of interest (1655, 8)\n",
      "Rows of interest (1226, 8)\n",
      "Rows of interest (1526, 8)\n",
      "Rows of interest (1898, 8)\n",
      "Rows of interest (1422, 8)\n",
      "Rows of interest (1420, 8)\n",
      "Rows of interest (1737, 8)\n",
      "Rows of interest (1243, 8)\n",
      "Rows of interest (2307, 8)\n",
      "Rows of interest (1242, 8)\n",
      "Rows of interest (1648, 8)\n",
      "Rows of interest (1288, 8)\n",
      "Rows of interest (1784, 8)\n",
      "Rows of interest (1223, 8)\n",
      "Rows of interest (1336, 8)\n",
      "Rows of interest (1865, 8)\n",
      "Rows of interest (1306, 8)\n",
      "Rows of interest (1220, 8)\n",
      "Rows of interest (1920, 8)\n",
      "Rows of interest (1212, 8)\n",
      "Rows of interest (1421, 8)\n",
      "Rows of interest (1725, 8)\n",
      "Rows of interest (2238, 8)\n",
      "Rows of interest (3065, 8)\n",
      "Rows of interest (1464, 8)\n",
      "Rows of interest (2958, 8)\n",
      "Rows of interest (1250, 8)\n",
      "Rows of interest (1262, 8)\n"
     ]
    },
    {
     "data": {
      "text/plain": [
       "(50379, 8)"
      ]
     },
     "execution_count": 87,
     "metadata": {},
     "output_type": "execute_result"
    }
   ],
   "source": [
    "## Read the request movement data and make the sel_action data set.\n",
    "import glob\n",
    "import re\n",
    "read_limit = 10000\n",
    "selected_action_req_data = pd.DataFrame()\n",
    "\n",
    "file_search_pattern = './../Data/req_movement_off_(.+?)_lim_10000.csv'\n",
    "for filepath in glob.glob('./../Data/req_movement_off_'+'[0-9]*'+'_lim_10000.csv'):\n",
    "    #print(filepath)\n",
    "    m = re.search(file_search_pattern, filepath)\n",
    "    if m:\n",
    "        read_offset = m.group(1)\n",
    "    else:\n",
    "        print(\"Could not find the file Please check if the file is named correctly and matches the pattern.\",file_search_pattern)\n",
    "        print(\"Path found\",filepath)\n",
    "        continue\n",
    "    #print(offset)\n",
    "    \n",
    "    temp = pd.read_csv(filepath)\n",
    "    #'CASE REPORT SENT AND DISPOSED LOCALLY ',\n",
    "    new_EAOL_df = selecting_req_data_for_action(temp,read_offset,read_limit,\n",
    "                                  single_action =False,\n",
    "                                  single_action_name='EXAMINED AT OUR LEVEL',\n",
    "                                  selected_action_list=['INTERIM REPLY TO COMPLAINANT','CASE DISPOSED OF','EXAMINED AT OUR LEVEL'])\n",
    "    new_EAOL_df.reset_index(drop=True,inplace=True)\n",
    "    \n",
    "    print(\"Rows of interest\",new_EAOL_df.shape)\n",
    "    if selected_action_req_data.shape[0] == 0:\n",
    "        selected_action_req_data = new_EAOL_df\n",
    "    else:\n",
    "        selected_action_req_data = selected_action_req_data.append(new_EAOL_df,ignore_index=True)\n",
    "    \n",
    "\n",
    "selected_action_req_data.shape"
   ]
  },
  {
   "cell_type": "markdown",
   "metadata": {},
   "source": [
    "#### Registration IDs for which request movement data with selected action is available."
   ]
  },
  {
   "cell_type": "code",
   "execution_count": 88,
   "metadata": {},
   "outputs": [
    {
     "name": "stdout",
     "output_type": "stream",
     "text": [
      "192764\n"
     ]
    }
   ],
   "source": [
    "print(len(set(reg_ids) - set(selected_action_req_data['registration_no'])))"
   ]
  },
  {
   "cell_type": "code",
   "execution_count": 89,
   "metadata": {},
   "outputs": [
    {
     "name": "stdout",
     "output_type": "stream",
     "text": [
      "./../Data/NodalOfficer_Details.csv\n"
     ]
    }
   ],
   "source": [
    "## Read the reference file for 'Parent of Organisation' and 'Apex Ministry/Dept/State'\n",
    "#This section of code reds the org_name from action_req dataset and finds out 'Apex Ministry/Dept/State'\n",
    "\n",
    "#read the file \n",
    "filepath_NodalOfficer_Details = \"./../Data/\" \n",
    "filename_NodalOfficer_Details = \"NodalOfficer_Details.csv\"\n",
    "print(filepath_NodalOfficer_Details + filename_NodalOfficer_Details)\n",
    "data_NodalOfficer_Details = pd.read_csv(filepath_NodalOfficer_Details + filename_NodalOfficer_Details, header=0, encoding = 'unicode_escape' )"
   ]
  },
  {
   "cell_type": "code",
   "execution_count": 90,
   "metadata": {},
   "outputs": [],
   "source": [
    "## LONG Runtime Warning. This code will take a lot of time to run.\n",
    "#find out what is the 'Apex Ministry/Dept/State' and 'Parent of Organisation'\n",
    "#print(new_EAOL_df['org_name'], \" : \", data_NodalOfficer_Details['org_name'])\n",
    "new_OrgName_df = []\n",
    "new_Apex_org = []\n",
    "reference_colnames = ['Apex Ministry/Dept/State','Parent of Organisation']\n",
    "multi_val_org = []\n",
    "for org_name in selected_action_req_data['org_name']:\n",
    "    #print(org_name)\n",
    "    \n",
    "    temp = data_NodalOfficer_Details.loc[(data_NodalOfficer_Details['org_name']== org_name),reference_colnames]\n",
    "    if temp.shape[0] == 0:\n",
    "        #need to store and continue\n",
    "        new_OrgName_df.append(None)\n",
    "        new_Apex_org.append(None)\n",
    "        continue\n",
    "    if len(temp[reference_colnames[0]].unique()) >1:\n",
    "     # to know which ones have multiple Parent dept name.\n",
    "        if org_name not in multi_val_org:\n",
    "            multi_val_org.append(org_name)\n",
    "        #print(temp)\n",
    "        #print(\"More than one values\")\n",
    "        #break\n",
    "    new_OrgName_df.append(temp[reference_colnames[1]].values)\n",
    "    new_Apex_org.append(temp[reference_colnames[0]].values[0])\n",
    "    #new_OrgName_df.append(data_NodalOfficer_Details[(data_NodalOfficer_Details['org_name']== org_name)], ignore_index = True)"
   ]
  },
  {
   "cell_type": "code",
   "execution_count": 91,
   "metadata": {},
   "outputs": [
    {
     "name": "stdout",
     "output_type": "stream",
     "text": [
      "50379\n",
      "(50379, 8)\n"
     ]
    }
   ],
   "source": [
    "print(len(new_OrgName_df))\n",
    "print(selected_action_req_data.shape)"
   ]
  },
  {
   "cell_type": "code",
   "execution_count": 92,
   "metadata": {},
   "outputs": [],
   "source": [
    "## Append to original data and store this in a file\n",
    "selected_action_req_data['Parent_org_name'] = new_OrgName_df\n",
    "selected_action_req_data['Apex_org_name'] = new_Apex_org"
   ]
  },
  {
   "cell_type": "code",
   "execution_count": 93,
   "metadata": {},
   "outputs": [
    {
     "data": {
      "text/plain": [
       "array(['Government of Gujarat', 'Government of Gujarat',\n",
       "       'Ministry of Labour and Employment', ...,\n",
       "       'Central Board of Direct Taxes (Income Tax)',\n",
       "       'Central Board of Direct Taxes (Income Tax)',\n",
       "       'Central Board of Direct Taxes (Income Tax)'], dtype=object)"
      ]
     },
     "execution_count": 93,
     "metadata": {},
     "output_type": "execute_result"
    }
   ],
   "source": [
    "selected_action_req_data[y_colname].values"
   ]
  },
  {
   "cell_type": "code",
   "execution_count": 94,
   "metadata": {},
   "outputs": [],
   "source": [
    "#Selected action req movement data - filename. Will be used in multiple sections after this.\n",
    "selected_action_req_filename = \"./../Data/processed_selected_action_Jan2.csv\""
   ]
  },
  {
   "cell_type": "code",
   "execution_count": 95,
   "metadata": {},
   "outputs": [],
   "source": [
    "selected_action_req_data.to_csv(selected_action_req_filename, header=True,index=False)"
   ]
  },
  {
   "cell_type": "code",
   "execution_count": 96,
   "metadata": {},
   "outputs": [
    {
     "name": "stdout",
     "output_type": "stream",
     "text": [
      "Unique registration IDs in selected Action request data 29365\n"
     ]
    }
   ],
   "source": [
    "reg_selected_mov_ids = []\n",
    "for filepath in glob.glob(selected_action_req_filename):#req_movement_EAOL_off_'+'[0-9]*'+'_lim_10000.csv'):\n",
    "    temp = pd.read_csv(filepath)['registration_no'].apply(lambda x:x.rstrip())\n",
    "    reg_selected_mov_ids.extend(temp.unique())\n",
    "\n",
    "print(\"Unique registration IDs in selected Action request data\",len(set(reg_selected_mov_ids)))"
   ]
  },
  {
   "cell_type": "markdown",
   "metadata": {},
   "source": [
    "#### Number of request IDs that have all the data we need for training."
   ]
  },
  {
   "cell_type": "code",
   "execution_count": 99,
   "metadata": {},
   "outputs": [
    {
     "name": "stdout",
     "output_type": "stream",
     "text": [
      "The req ids not in selected action movement data 192764\n",
      "Number of reg ids that Can Be Used (as they are in original request data and selected action data) 29365\n"
     ]
    }
   ],
   "source": [
    "not_common_reg_ids = list(set(reg_ids) - set(reg_selected_mov_ids))\n",
    "common_reg_ids = list(set(reg_ids) - set(not_common))\n",
    "print(\"The req ids not in selected action movement data\",len(not_common_reg_ids))\n",
    "print(\"Number of reg ids that Can Be Used (as they are in original request data and selected action data)\",len(common_reg_ids))"
   ]
  },
  {
   "cell_type": "code",
   "execution_count": 100,
   "metadata": {},
   "outputs": [],
   "source": [
    "assert common_reg_ids[0] in reg_ids,\"Registration ID to be used must exist in original request list\"\n",
    "assert common_reg_ids[0] in reg_selected_mov_ids,\"Registration ID to be used must exist in Request Movement list\""
   ]
  },
  {
   "cell_type": "markdown",
   "metadata": {},
   "source": [
    "#### Distribute the selected registration ids as Train, Test and Validation data. (Currently not used)"
   ]
  },
  {
   "cell_type": "code",
   "execution_count": 101,
   "metadata": {},
   "outputs": [
    {
     "name": "stdout",
     "output_type": "stream",
     "text": [
      "Training set length  20555\n",
      "Test set length  5873\n",
      "Val set length  2937\n"
     ]
    }
   ],
   "source": [
    "#sample reg ids based on train test val split with sample\n",
    "import random\n",
    "random.seed(4)\n",
    "base_list = set(common_reg_ids) # why EAOL since those are the tickets we are targetting.\n",
    "train_reg_list = random.sample(base_list, int(0.7 * len(base_list)))\n",
    "remaining_regs = list((set(base_list)-set(train_reg_list)))\n",
    "test_reg_list = random.sample(remaining_regs, int(0.2*len(base_list)))\n",
    "val_reg_list = list(set(remaining_regs) - set(test_reg_list))\n",
    "\n",
    "print(\"Training set length \",len(train_reg_list))\n",
    "print(\"Test set length \",len(test_reg_list))\n",
    "print(\"Val set length \",len(val_reg_list))"
   ]
  },
  {
   "cell_type": "markdown",
   "metadata": {},
   "source": [
    "#### Store the data for the Shortlisted registration IDs in the csv files. \n",
    "##### This will later be used by Gridsearchfor model building"
   ]
  },
  {
   "cell_type": "markdown",
   "metadata": {},
   "source": [
    "###### Original Request data"
   ]
  },
  {
   "cell_type": "code",
   "execution_count": 102,
   "metadata": {},
   "outputs": [
    {
     "name": "stdout",
     "output_type": "stream",
     "text": [
      "Selected original reg data (29365, 13)\n"
     ]
    }
   ],
   "source": [
    "#loop through above path and get all the reg ids\n",
    "import helper_import_path\n",
    "import removing_dup_reg_nos as remove_dup\n",
    "\n",
    "selected_reg_orig_req_fname = \"./../Data/selected_original_req_dataJan2.csv\"\n",
    "\n",
    "selected_original_df = pd.DataFrame()\n",
    "for filepath in glob.glob('./../Data/original_req_off_'+'[0-9]*'+'_lim_10000.csv'):\n",
    "    #print(\"File\",filepath)\n",
    "    original_req_data = pd.read_csv(filepath)\n",
    "    original_req_data['registration_no'] =  (original_req_data['registration_no'].apply(lambda x:x.rstrip()))\n",
    "    original_req_data = remove_dup.removing_dup_reg_nos(original_req_data)\n",
    "    #print(\"Total rows after removing duplicates\",original_req_data.shape)\n",
    "    #print(\"Reg Ids found in current data set\", (original_req_data.loc[original_req_data['registration_no'].apply(lambda x: x in reg_eaol_mov_ids),:]).shape)\n",
    "    if selected_original_df.shape[0] == 0:\n",
    "        selected_original_df = original_req_data.loc[original_req_data['registration_no'].apply(lambda x: x in common_reg_ids),:]\n",
    "        #print(\"Selected shape in if\",selected_original_df.shape)\n",
    "    else:\n",
    "        temp =  original_req_data.loc[original_req_data['registration_no'].apply(lambda x: x in common_reg_ids),:]\n",
    "        selected_original_df = selected_original_df.append(temp,ignore_index = True)\n",
    "        #print(\"Selected shape\",selected_original_df.shape)\n",
    "print(\"Selected original reg data\",selected_original_df.shape)\n",
    "\n",
    "selected_original_df.to_csv(selected_reg_orig_req_fname,index =False)"
   ]
  },
  {
   "cell_type": "code",
   "execution_count": 103,
   "metadata": {},
   "outputs": [],
   "source": [
    "## Unique reg id in original dataset\n",
    "assert len(selected_original_df['registration_no'].unique()) == len(common_reg_ids),\"The number of reg ids available in selected original request data should be equal to the number selected for model building.\"\n"
   ]
  },
  {
   "cell_type": "markdown",
   "metadata": {},
   "source": [
    "###### Request Movement Data"
   ]
  },
  {
   "cell_type": "code",
   "execution_count": 104,
   "metadata": {},
   "outputs": [],
   "source": [
    "all_action_req_data = pd.read_csv(selected_action_req_filename)\n",
    "## Unique reg id in request movement dataset\n",
    "assert len(all_action_req_data['registration_no'].unique()) == len(common_reg_ids),\"The number of reg ids available in selected request movement data should be equal to the number selected for model building.\"\n"
   ]
  },
  {
   "cell_type": "code",
   "execution_count": 105,
   "metadata": {},
   "outputs": [
    {
     "name": "stdout",
     "output_type": "stream",
     "text": [
      "Number of requested ids from selected action dataset, 29365\n"
     ]
    }
   ],
   "source": [
    "## Select the common reg ids from this data.\n",
    "selected_action_req_data = all_action_req_data.loc[all_action_req_data['registration_no'].apply(lambda x: x in common_reg_ids),:]\n",
    "print(\"Number of requested ids from selected action dataset,\", len(selected_action_req_data['registration_no'].unique()))"
   ]
  },
  {
   "cell_type": "code",
   "execution_count": 108,
   "metadata": {},
   "outputs": [
    {
     "name": "stdout",
     "output_type": "stream",
     "text": [
      "Number of rows in the selected action req data (29365, 10)\n"
     ]
    }
   ],
   "source": [
    "## Remove rows with duplicate reg Ids, Reason : To merge with the original req_data\n",
    "print(\"Number of rows in the selected action req data\",selected_action_req_data.shape)\n",
    "if selected_action_req_data.shape[0] != len(selected_action_req_data['registration_no'].unique()):\n",
    "    selected_action_req_data = remove_dup.removing_dup_reg_nos(selected_action_req_data)\n",
    "    print(\"Number of rows in the selected action req data after removing duplicates\",selected_action_req_data.shape)\n",
    "    assert selected_action_req_data.shape[0] == len(common_reg_ids),\"Problem in selecting the common registration IDs across file.\""
   ]
  },
  {
   "cell_type": "code",
   "execution_count": 109,
   "metadata": {},
   "outputs": [],
   "source": [
    "## Decide on a y Column and encode the same.\n",
    "y_colname = 'Apex_org_name'#'Parent_org_name' #'\n",
    "def encode_y(selected_req_df,y_colname = y_colname):\n",
    "    import model_builder_helper as mbh\n",
    "    # Write encoded data to the DF and csv file\n",
    "     #'Apex_org_name'\n",
    "    selected_req_df['encoded_y'],label_encoder_y = mbh.get_encoded_values(selected_req_df[y_colname].fillna('X'))\n",
    "    import pickle\n",
    "    # Persiting the encoder so, we can use it later to decode.\n",
    "    with open(\"./../TrainedVectors/labelencoder_y.pickle\", \"wb\") as f:\n",
    "        pickle.dump(label_encoder_y, f)\n",
    "    return selected_req_df,label_encoder_y"
   ]
  },
  {
   "cell_type": "code",
   "execution_count": 110,
   "metadata": {},
   "outputs": [],
   "source": [
    "encoded_action_req_data,label_encoder_y = encode_y(selected_action_req_data,y_colname = y_colname)"
   ]
  },
  {
   "cell_type": "markdown",
   "metadata": {},
   "source": [
    "### Merge the data from both files on registration."
   ]
  },
  {
   "cell_type": "code",
   "execution_count": 111,
   "metadata": {},
   "outputs": [],
   "source": [
    "# When running this file in sequence\n",
    "original_df = selected_original_df[['country_name','distname','registration_no', 'state_name', 'subject_content']]\n",
    "## Else read from a pre-stored csv\n",
    "#selected_original_df = pd.read_csv(selected_reg_orig_req_fname)\n",
    "#print(\"Selected original reg data\",selected_original_df.shape)"
   ]
  },
  {
   "cell_type": "code",
   "execution_count": 113,
   "metadata": {},
   "outputs": [],
   "source": [
    "assert encoded_action_req_data.shape[0] == original_df.shape[0],\"The rows in req movement and original req data are not same for merge.\""
   ]
  },
  {
   "cell_type": "code",
   "execution_count": 128,
   "metadata": {},
   "outputs": [],
   "source": [
    "# merge these two so that the data required to build the test and train are in the same file\n",
    "merged_df = encoded_action_req_data.merge(original_df, on='registration_no',how = \"inner\")"
   ]
  },
  {
   "cell_type": "code",
   "execution_count": 129,
   "metadata": {},
   "outputs": [],
   "source": [
    "assert merged_df.shape[0] == encoded_action_req_data.shape[0],\"The number of rows obtained after merging should be equal to original dataset.\""
   ]
  },
  {
   "cell_type": "code",
   "execution_count": 130,
   "metadata": {},
   "outputs": [
    {
     "data": {
      "text/plain": [
       "Index(['Unnamed: 0', 'action_name', 'action_srno', 'date_of_action',\n",
       "       'org_name', 'org_name2', 'registration_no', 'remarks',\n",
       "       'Parent_org_name', 'Apex_org_name', 'encoded_y', 'country_name',\n",
       "       'distname', 'state_name', 'subject_content'],\n",
       "      dtype='object')"
      ]
     },
     "execution_count": 130,
     "metadata": {},
     "output_type": "execute_result"
    }
   ],
   "source": [
    "merged_df.columns\n"
   ]
  },
  {
   "cell_type": "code",
   "execution_count": 131,
   "metadata": {},
   "outputs": [],
   "source": [
    "## reset index before saving to csv\n",
    "merged_df.reset_index(inplace=True,drop=True)"
   ]
  },
  {
   "cell_type": "code",
   "execution_count": 135,
   "metadata": {},
   "outputs": [],
   "source": [
    "merged_data_filename = \"./../Data/merged_action_req_movementJan2.csv\""
   ]
  },
  {
   "cell_type": "code",
   "execution_count": 132,
   "metadata": {},
   "outputs": [],
   "source": [
    "#merged_df.to_csv(\"./../Data/merged_eaol_original_10179.csv\", header=True,index=False)\n",
    "merged_df.to_csv(merged_data_filename, header=True,index=False)"
   ]
  },
  {
   "cell_type": "code",
   "execution_count": 134,
   "metadata": {},
   "outputs": [],
   "source": [
    "## Visual verification\n",
    "#merged_df.head()"
   ]
  },
  {
   "cell_type": "markdown",
   "metadata": {},
   "source": [
    "## EDA on the Merged data"
   ]
  },
  {
   "cell_type": "code",
   "execution_count": 136,
   "metadata": {},
   "outputs": [
    {
     "data": {
      "text/plain": [
       "75"
      ]
     },
     "execution_count": 136,
     "metadata": {},
     "output_type": "execute_result"
    }
   ],
   "source": [
    "import pandas as pd\n",
    "# Reading directly from saved file to save time\n",
    "merged_df = pd.read_csv(merged_data_filename)\n",
    "len(merged_df['encoded_y'].unique())"
   ]
  },
  {
   "cell_type": "code",
   "execution_count": 137,
   "metadata": {},
   "outputs": [],
   "source": [
    "def plot_freq(merged_df):\n",
    "    import matplotlib.pyplot as plt\n",
    "    %matplotlib inline\n",
    "    plt.hist(merged_df['encoded_y'])#,bins=len(merged_df['encoded_y'].value_counts()))\n",
    "    plt.show()"
   ]
  },
  {
   "cell_type": "code",
   "execution_count": 138,
   "metadata": {},
   "outputs": [
    {
     "data": {
      "image/png": "[encoded data removed]",
      "text/plain": [
       "<Figure size 432x288 with 1 Axes>"
      ]
     },
     "metadata": {
      "needs_background": "light"
     },
     "output_type": "display_data"
    }
   ],
   "source": [
    "plot_freq(merged_df)"
   ]
  },
  {
   "cell_type": "code",
   "execution_count": 139,
   "metadata": {},
   "outputs": [],
   "source": [
    "index_value_counts = merged_df['encoded_y'].value_counts()\n",
    "#print(index_value_counts)\n",
    "#most_frequent_class = index_value_counts[index_value_counts.values == max(index_value_counts)]\n",
    "#print(most_frequent_class)\n",
    "#df_less_freq_y = merged_df.loc[merged_df['encoded_y'] != most_frequent_class,:]"
   ]
  },
  {
   "cell_type": "code",
   "execution_count": 147,
   "metadata": {},
   "outputs": [
    {
     "name": "stdout",
     "output_type": "stream",
     "text": [
      "Shape of the dataframe with low freq classes (50, 2)\n",
      "Number of Unique classes 50\n"
     ]
    }
   ],
   "source": [
    "scatter_df = merged_df.groupby(['encoded_y']).size().reset_index().rename(columns={0:'count'})\n",
    "#print(scatter_df)\n",
    "threshold = 30\n",
    "low_freq_classes = scatter_df[scatter_df['count']<threshold]\n",
    "#plt.scatter(prediction_df['actual_id'],prediction_df['pred_id'],s=scatter_df['count'],alpha=0.5)\n",
    "#print(low_freq_classes)\n",
    "print(\"Shape of the dataframe with low freq classes\",low_freq_classes.shape)\n",
    "print(\"Number of Unique classes\",len(low_freq_classes['encoded_y'].unique()))\n",
    "other_classes = low_freq_classes['encoded_y'].unique()\n",
    "#print(other_classes)\n",
    "reduced_class_data = merged_df.copy(deep=True)\n",
    "\n",
    "reduced_class_data[y_colname] = np.where((reduced_class_data['encoded_y'].apply(lambda x:x in other_classes)),'Other',reduced_class_data[y_colname])\n"
   ]
  },
  {
   "cell_type": "code",
   "execution_count": 148,
   "metadata": {},
   "outputs": [
    {
     "data": {
      "text/plain": [
       "array(['Ministry of External Affairs'], dtype=object)"
      ]
     },
     "execution_count": 148,
     "metadata": {},
     "output_type": "execute_result"
    }
   ],
   "source": [
    "label_encoder_y.inverse_transform([54])"
   ]
  },
  {
   "cell_type": "code",
   "execution_count": 149,
   "metadata": {},
   "outputs": [
    {
     "data": {
      "text/html": [
       "<div>\n",
       "<style scoped>\n",
       "    .dataframe tbody tr th:only-of-type {\n",
       "        vertical-align: middle;\n",
       "    }\n",
       "\n",
       "    .dataframe tbody tr th {\n",
       "        vertical-align: top;\n",
       "    }\n",
       "\n",
       "    .dataframe thead th {\n",
       "        text-align: right;\n",
       "    }\n",
       "</style>\n",
       "<table border=\"1\" class=\"dataframe\">\n",
       "  <thead>\n",
       "    <tr style=\"text-align: right;\">\n",
       "      <th></th>\n",
       "      <th>0</th>\n",
       "      <th>1</th>\n",
       "      <th>2</th>\n",
       "      <th>3</th>\n",
       "      <th>4</th>\n",
       "      <th>5</th>\n",
       "      <th>6</th>\n",
       "      <th>7</th>\n",
       "      <th>8</th>\n",
       "      <th>9</th>\n",
       "      <th>...</th>\n",
       "      <th>29355</th>\n",
       "      <th>29356</th>\n",
       "      <th>29357</th>\n",
       "      <th>29358</th>\n",
       "      <th>29359</th>\n",
       "      <th>29360</th>\n",
       "      <th>29361</th>\n",
       "      <th>29362</th>\n",
       "      <th>29363</th>\n",
       "      <th>29364</th>\n",
       "    </tr>\n",
       "  </thead>\n",
       "  <tbody>\n",
       "    <tr>\n",
       "      <th>Apex_org_name</th>\n",
       "      <td>Ministry of Labour and Employment</td>\n",
       "      <td>Department of Health &amp; Family Welfare</td>\n",
       "      <td>Department of Health &amp; Family Welfare</td>\n",
       "      <td>Department of Health &amp; Family Welfare</td>\n",
       "      <td>Department of Health &amp; Family Welfare</td>\n",
       "      <td>Department of Health &amp; Family Welfare</td>\n",
       "      <td>Department of Health &amp; Family Welfare</td>\n",
       "      <td>Department of Higher Education</td>\n",
       "      <td>Department of Health &amp; Family Welfare</td>\n",
       "      <td>Department of Health &amp; Family Welfare</td>\n",
       "      <td>...</td>\n",
       "      <td>Department of Financial Services (Banking Divi...</td>\n",
       "      <td>Government of Gujarat</td>\n",
       "      <td>Government of Gujarat</td>\n",
       "      <td>Government of Gujarat</td>\n",
       "      <td>Reserve Bank of India</td>\n",
       "      <td>Department of Financial Services (Banking Divi...</td>\n",
       "      <td>Reserve Bank of India</td>\n",
       "      <td>Department of Financial Services (Banking Divi...</td>\n",
       "      <td>Department of Financial Services (Banking Divi...</td>\n",
       "      <td>Department of Financial Services (Banking Divi...</td>\n",
       "    </tr>\n",
       "    <tr>\n",
       "      <th>Apex_org_name</th>\n",
       "      <td>Ministry of Labour and Employment</td>\n",
       "      <td>Department of Health &amp; Family Welfare</td>\n",
       "      <td>Department of Health &amp; Family Welfare</td>\n",
       "      <td>Department of Health &amp; Family Welfare</td>\n",
       "      <td>Department of Health &amp; Family Welfare</td>\n",
       "      <td>Department of Health &amp; Family Welfare</td>\n",
       "      <td>Department of Health &amp; Family Welfare</td>\n",
       "      <td>Department of Higher Education</td>\n",
       "      <td>Department of Health &amp; Family Welfare</td>\n",
       "      <td>Department of Health &amp; Family Welfare</td>\n",
       "      <td>...</td>\n",
       "      <td>Department of Financial Services (Banking Divi...</td>\n",
       "      <td>Government of Gujarat</td>\n",
       "      <td>Government of Gujarat</td>\n",
       "      <td>Government of Gujarat</td>\n",
       "      <td>Reserve Bank of India</td>\n",
       "      <td>Department of Financial Services (Banking Divi...</td>\n",
       "      <td>Reserve Bank of India</td>\n",
       "      <td>Department of Financial Services (Banking Divi...</td>\n",
       "      <td>Department of Financial Services (Banking Divi...</td>\n",
       "      <td>Department of Financial Services (Banking Divi...</td>\n",
       "    </tr>\n",
       "  </tbody>\n",
       "</table>\n",
       "<p>2 rows × 29365 columns</p>\n",
       "</div>"
      ],
      "text/plain": [
       "                                           0      \\\n",
       "Apex_org_name  Ministry of Labour and Employment   \n",
       "Apex_org_name  Ministry of Labour and Employment   \n",
       "\n",
       "                                               1      \\\n",
       "Apex_org_name  Department of Health & Family Welfare   \n",
       "Apex_org_name  Department of Health & Family Welfare   \n",
       "\n",
       "                                               2      \\\n",
       "Apex_org_name  Department of Health & Family Welfare   \n",
       "Apex_org_name  Department of Health & Family Welfare   \n",
       "\n",
       "                                               3      \\\n",
       "Apex_org_name  Department of Health & Family Welfare   \n",
       "Apex_org_name  Department of Health & Family Welfare   \n",
       "\n",
       "                                               4      \\\n",
       "Apex_org_name  Department of Health & Family Welfare   \n",
       "Apex_org_name  Department of Health & Family Welfare   \n",
       "\n",
       "                                               5      \\\n",
       "Apex_org_name  Department of Health & Family Welfare   \n",
       "Apex_org_name  Department of Health & Family Welfare   \n",
       "\n",
       "                                               6      \\\n",
       "Apex_org_name  Department of Health & Family Welfare   \n",
       "Apex_org_name  Department of Health & Family Welfare   \n",
       "\n",
       "                                        7      \\\n",
       "Apex_org_name  Department of Higher Education   \n",
       "Apex_org_name  Department of Higher Education   \n",
       "\n",
       "                                               8      \\\n",
       "Apex_org_name  Department of Health & Family Welfare   \n",
       "Apex_org_name  Department of Health & Family Welfare   \n",
       "\n",
       "                                               9      ...  \\\n",
       "Apex_org_name  Department of Health & Family Welfare  ...   \n",
       "Apex_org_name  Department of Health & Family Welfare  ...   \n",
       "\n",
       "                                                           29355  \\\n",
       "Apex_org_name  Department of Financial Services (Banking Divi...   \n",
       "Apex_org_name  Department of Financial Services (Banking Divi...   \n",
       "\n",
       "                               29356                  29357  \\\n",
       "Apex_org_name  Government of Gujarat  Government of Gujarat   \n",
       "Apex_org_name  Government of Gujarat  Government of Gujarat   \n",
       "\n",
       "                               29358                  29359  \\\n",
       "Apex_org_name  Government of Gujarat  Reserve Bank of India   \n",
       "Apex_org_name  Government of Gujarat  Reserve Bank of India   \n",
       "\n",
       "                                                           29360  \\\n",
       "Apex_org_name  Department of Financial Services (Banking Divi...   \n",
       "Apex_org_name  Department of Financial Services (Banking Divi...   \n",
       "\n",
       "                               29361  \\\n",
       "Apex_org_name  Reserve Bank of India   \n",
       "Apex_org_name  Reserve Bank of India   \n",
       "\n",
       "                                                           29362  \\\n",
       "Apex_org_name  Department of Financial Services (Banking Divi...   \n",
       "Apex_org_name  Department of Financial Services (Banking Divi...   \n",
       "\n",
       "                                                           29363  \\\n",
       "Apex_org_name  Department of Financial Services (Banking Divi...   \n",
       "Apex_org_name  Department of Financial Services (Banking Divi...   \n",
       "\n",
       "                                                           29364  \n",
       "Apex_org_name  Department of Financial Services (Banking Divi...  \n",
       "Apex_org_name  Department of Financial Services (Banking Divi...  \n",
       "\n",
       "[2 rows x 29365 columns]"
      ]
     },
     "execution_count": 149,
     "metadata": {},
     "output_type": "execute_result"
    }
   ],
   "source": [
    "df = pd.DataFrame([reduced_class_data[y_colname],merged_df[y_colname]])\n",
    "df"
   ]
  },
  {
   "cell_type": "code",
   "execution_count": 150,
   "metadata": {},
   "outputs": [],
   "source": [
    "reduced_class_data,_ = encode_y(reduced_class_data,y_colname = y_colname)\n",
    "reduced_class_data.to_csv(\"./../Data/merged_eaol_reduced_classes_\"+str(threshold)+\".csv\", header=True,index=False)"
   ]
  },
  {
   "cell_type": "code",
   "execution_count": 151,
   "metadata": {},
   "outputs": [
    {
     "data": {
      "image/png": "[encoded data removed]",
      "text/plain": [
       "<Figure size 432x288 with 1 Axes>"
      ]
     },
     "metadata": {
      "needs_background": "light"
     },
     "output_type": "display_data"
    }
   ],
   "source": [
    "plot_freq(reduced_class_data)\n"
   ]
  },
  {
   "cell_type": "code",
   "execution_count": 152,
   "metadata": {},
   "outputs": [
    {
     "data": {
      "text/plain": [
       "26"
      ]
     },
     "execution_count": 152,
     "metadata": {},
     "output_type": "execute_result"
    }
   ],
   "source": [
    "len(reduced_class_data['encoded_y'].unique())"
   ]
  },
  {
   "cell_type": "code",
   "execution_count": 153,
   "metadata": {},
   "outputs": [],
   "source": [
    "scatter_df = reduced_class_data.groupby(['encoded_y']).size().reset_index().rename(columns={0:'count'})\n",
    "#print(scatter_df)"
   ]
  },
  {
   "cell_type": "code",
   "execution_count": null,
   "metadata": {},
   "outputs": [],
   "source": []
  }
 ],
 "metadata": {
  "kernelspec": {
   "display_name": "Python 3",
   "language": "python",
   "name": "python3"
  },
  "language_info": {
   "codemirror_mode": {
    "name": "ipython",
    "version": 3
   },
   "file_extension": ".py",
   "mimetype": "text/x-python",
   "name": "python",
   "nbconvert_exporter": "python",
   "pygments_lexer": "ipython3",
   "version": "3.7.3"
  }
 },
 "nbformat": 4,
 "nbformat_minor": 2
}
