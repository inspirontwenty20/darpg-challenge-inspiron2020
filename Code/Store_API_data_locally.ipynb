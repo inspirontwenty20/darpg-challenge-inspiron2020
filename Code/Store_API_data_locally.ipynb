{
 "cells": [
  {
   "cell_type": "code",
   "execution_count": 2,
   "metadata": {},
   "outputs": [],
   "source": [
    "import requests\n",
    "import helper_import_path \n",
    "import Request_Analysis_JSON_helper as JHelper\n"
   ]
  },
  {
   "cell_type": "markdown",
   "metadata": {},
   "source": [
    "#### Getting request movement data"
   ]
  },
  {
   "cell_type": "code",
   "execution_count": null,
   "metadata": {},
   "outputs": [],
   "source": [
    "limit = 10000\n",
    "offset = 310000\n",
    "requests_movement_df = JHelper.get_movement_cpgrams(limit, offset)\n",
    "\n",
    "# writing to csv\n",
    "requests_movement_df.to_csv(\"../Data/req_movement_off_\"+str(offset)+\"_lim_\"+str(limit)+\".csv\")\n",
    "#removing the limit as extension. This is creating new files each time we run with different limit. Let it override.  \n",
    "#requests_movement_df.to_csv(\"../Data/req_movement_details.csv\")\n"
   ]
  },
  {
   "cell_type": "markdown",
   "metadata": {},
   "source": [
    "#### Getting original request data"
   ]
  },
  {
   "cell_type": "code",
   "execution_count": 34,
   "metadata": {},
   "outputs": [
    {
     "name": "stdout",
     "output_type": "stream",
     "text": [
      "The api request returned with resoponse code 200\n",
      "No. of rows captured 10000 with offset =  250000\n",
      "  SourceName closing_date comments country_name         diarydate  \\\n",
      "0        PMO   01-08-2019       NA        India  08-07-2019 21:02   \n",
      "1        PMO   01-08-2019       NA        India  08-07-2019 21:02   \n",
      "2        PMO   31-07-2019       NA        India  08-07-2019 21:04   \n",
      "3        PMO   23-07-2019       NA        India  08-07-2019 21:09   \n",
      "4        PMO   05-08-2019       NA        India  08-07-2019 21:11   \n",
      "\n",
      "             distname                                ministry_department  \\\n",
      "0           Bagalkot                             Government of Karnataka   \n",
      "1           Bagalkot                   Ministry of Labour and Employment   \n",
      "2           Davangere  Department of Financial Services (Banking Divi...   \n",
      "3  Udham Singh Nagar   Department of Financial Services (Banking Divi...   \n",
      "4            Bilaspur              Ministry of Railways ( Railway Board)   \n",
      "\n",
      "  rating ratingdate       registration_no    state_name  \\\n",
      "0      N         NA  PMOPG/E/2019/0379360     Karnataka   \n",
      "1      N         NA  PMOPG/E/2019/0379360     Karnataka   \n",
      "2      N         NA  PMOPG/E/2019/0379361     Karnataka   \n",
      "3      N         NA  PMOPG/E/2019/0379371   Uttarakhand   \n",
      "4      N         NA  PMOPG/E/2019/0379377  Chhattisgarh   \n",
      "\n",
      "                                     subject_content  \n",
      "0  Hi sir This is regarding for salary issue..I a...  \n",
      "1  Hi sir This is regarding for salary issue..I a...  \n",
      "2  Sir I am requst  all the state bank network is...  \n",
      "3  सर मै ऐक गरीब परिवार  के किसान का बेटा हूँ bjp...  \n",
      "4  दक्षिण पूर्व मध्य रेलवे के अंतर्गत दिव्याङ्ग क...  \n",
      "------------------------------------------------------------------------------------\n",
      "Columns are ['SourceName', 'closing_date', 'comments', 'country_name', 'diarydate', 'distname', 'ministry_department', 'rating', 'ratingdate', 'registration_no', 'state_name', 'subject_content']\n"
     ]
    }
   ],
   "source": [
    "import Request_Analysis_JSON_helper as JHelper\n",
    "limit=10000\n",
    "offset = 250000\n",
    "original_request_data = JHelper.get_original_cpgrams(limit,offset)\n",
    "import removing_dup_reg_nos as remove_dup\n",
    "original_request_data = remove_dup.removing_dup_reg_nos(original_request_data)\n",
    "original_request_data.to_csv(\"../Data/original_req_off_\"+str(offset)+\"_lim_\"+str(limit)+\".csv\")"
   ]
  },
  {
   "cell_type": "code",
   "execution_count": null,
   "metadata": {},
   "outputs": [],
   "source": [
    "#print(\"Unique reg id in Movement file\",requests_movement_df['registration_no'].unique())\n",
    "print(\"Printing number of unique reg ID in the movement data\",len(requests_movement_df['registration_no'].unique()))\n",
    "#print(\"Unique reg id in Original file\",original_request_data['registration_no'].unique())\n",
    "print(\"Printing unique reg id in the original data\",len(original_request_data['registration_no'].unique()))"
   ]
  },
  {
   "cell_type": "markdown",
   "metadata": {},
   "source": [
    "#### Selecting the data for shortlisted action_names"
   ]
  },
  {
   "cell_type": "code",
   "execution_count": 1,
   "metadata": {},
   "outputs": [],
   "source": [
    "# This section o code reads the movement files and find out action_name = #EAOL \n",
    "# and removes other rows, and sotres in a new file\n",
    "\n",
    "import pandas as pd\n",
    "\n",
    "read_limit = 10000\n",
    "read_offset = 200000\n",
    "\n",
    "#read the file\n",
    "data_request_movement_df = pd.read_csv(\"../Data/req_movement_off_\"+str(read_offset)+\"_lim_\"+str(read_limit)+\".csv\")\n",
    "#data_request_movement_df.head(5)\n",
    "\n"
   ]
  },
  {
   "cell_type": "code",
   "execution_count": 43,
   "metadata": {},
   "outputs": [],
   "source": [
    "def selecting_req_data_for_action(data_request_movement_df,read_offset,read_limit,\n",
    "                                  single_action =True,\n",
    "                                  single_action_name='EXAMINED AT OUR LEVEL',\n",
    "                                  selected_action_list=['INTERIM REPLY TO COMPLAINANT','CASE DISPOSED OF','CASE REPORT SENT AND DISPOSED LOCALLY ','EXAMINED AT OUR LEVEL']):\n",
    "\n",
    "    if single_action:\n",
    "        ## Selecting EAOL Only\n",
    "        #drop other cols which are not required\n",
    "        new_EAOL_df = data_request_movement_df.loc[(data_request_movement_df['action_name'] == single_action_name)]\n",
    "        #new_df.head(20)\n",
    "\n",
    "\n",
    "        #writing to a file\n",
    "        new_EAOL_df.to_csv(\"../Data/req_movement_EAOL_off_\"+str(read_offset)+\"_lim_\"+str(read_limit)+\".csv\")\n",
    "    else:\n",
    "        ## Selecting Multiple actions\n",
    "        new_EAOL_df = data_request_movement_df.loc[(data_request_movement_df['action_name'].apply(lambda x:x in selected_action_list))]\n",
    "        new_EAOL_df.to_csv(\"../Data/req_movement_sel_action_off_\"+str(read_offset)+\"_lim_\"+str(read_limit)+\".csv\")\n",
    "    return new_EAOL_df"
   ]
  },
  {
   "cell_type": "code",
   "execution_count": 78,
   "metadata": {},
   "outputs": [
    {
     "name": "stdout",
     "output_type": "stream",
     "text": [
      "Rows of interest (1255, 8)\n",
      "Rows of interest (1386, 8)\n",
      "Rows of interest (1226, 8)\n",
      "Rows of interest (1526, 8)\n",
      "Rows of interest (1422, 8)\n",
      "Rows of interest (1420, 8)\n",
      "Rows of interest (1243, 8)\n",
      "Rows of interest (2307, 8)\n",
      "Rows of interest (1242, 8)\n",
      "Rows of interest (1648, 8)\n",
      "Rows of interest (1288, 8)\n",
      "Rows of interest (1223, 8)\n",
      "Rows of interest (1336, 8)\n",
      "Rows of interest (1865, 8)\n",
      "Rows of interest (1306, 8)\n",
      "Rows of interest (1220, 8)\n",
      "Rows of interest (1212, 8)\n",
      "Rows of interest (1421, 8)\n",
      "Rows of interest (1725, 8)\n",
      "Rows of interest (1464, 8)\n",
      "Rows of interest (1250, 8)\n",
      "Rows of interest (1262, 8)\n"
     ]
    }
   ],
   "source": [
    "import glob\n",
    "import re\n",
    "read_limit = 10000\n",
    "selected_action_req_data = pd.DataFrame()\n",
    "for filepath in glob.glob('./../Data/req_movement_off_'+'[0-9]*'+'_lim_10000.csv'):\n",
    "    #print(filepath)\n",
    "    m = re.search('./../Data/req_movement_off_(.+?)_lim_10000.csv', filepath)\n",
    "    if m:\n",
    "        read_offset = m.group(1)\n",
    "    else:\n",
    "        print(\"Could not find the file correctly.\",filepath)\n",
    "        continue\n",
    "    #print(offset)\n",
    "    \n",
    "    temp = pd.read_csv(filepath)\n",
    "    #'CASE REPORT SENT AND DISPOSED LOCALLY ',\n",
    "    new_EAOL_df = selecting_req_data_for_action(temp,read_offset,read_limit,\n",
    "                                  single_action =False,\n",
    "                                  single_action_name='EXAMINED AT OUR LEVEL',\n",
    "                                  selected_action_list=['INTERIM REPLY TO COMPLAINANT','CASE DISPOSED OF','EXAMINED AT OUR LEVEL'])\n",
    "    new_EAOL_df.reset_index(drop=True,inplace=True)\n",
    "    #print(\"Rows of interest\",new_EAOL_df.shape)\n",
    "    if selected_action_req_data.shape[0] == 0:\n",
    "        selected_action_req_data = new_EAOL_df\n",
    "    else:\n",
    "        selected_action_req_data = selected_action_req_data.append(new_EAOL_df,ignore_index=True)\n",
    "    \n"
   ]
  },
  {
   "cell_type": "code",
   "execution_count": 79,
   "metadata": {},
   "outputs": [
    {
     "data": {
      "text/plain": [
       "Index(['Unnamed: 0', 'action_name', 'action_srno', 'date_of_action',\n",
       "       'org_name', 'org_name2', 'registration_no', 'remarks'],\n",
       "      dtype='object')"
      ]
     },
     "execution_count": 79,
     "metadata": {},
     "output_type": "execute_result"
    }
   ],
   "source": [
    "selected_action_req_data.columns"
   ]
  },
  {
   "cell_type": "code",
   "execution_count": 80,
   "metadata": {},
   "outputs": [
    {
     "data": {
      "text/plain": [
       "(31247, 8)"
      ]
     },
     "execution_count": 80,
     "metadata": {},
     "output_type": "execute_result"
    }
   ],
   "source": [
    "selected_action_req_data.shape"
   ]
  },
  {
   "cell_type": "code",
   "execution_count": 81,
   "metadata": {},
   "outputs": [
    {
     "name": "stdout",
     "output_type": "stream",
     "text": [
      "./../Data/NodalOfficer_Details.csv\n"
     ]
    }
   ],
   "source": [
    "#This section of code reds the org_name from *EAOL*.csv s and finds out 'Apex Ministry/Dept/State'\n",
    "# and 'Parent of Organisation' from 'NodalOfficer_Details.csv' file and appends it to the same file\n",
    "\n",
    "#read the file \n",
    "filepath_NodalOfficer_Details = \"./../Data/\" \n",
    "filename_NodalOfficer_Details = \"NodalOfficer_Details.csv\"\n",
    "print(filepath_NodalOfficer_Details + filename_NodalOfficer_Details)\n",
    "data_NodalOfficer_Details = pd.read_csv(filepath_NodalOfficer_Details + filename_NodalOfficer_Details, header=0, encoding = 'unicode_escape' )"
   ]
  },
  {
   "cell_type": "code",
   "execution_count": 82,
   "metadata": {},
   "outputs": [],
   "source": [
    "#data_NodalOfficer_Details.columns"
   ]
  },
  {
   "cell_type": "markdown",
   "metadata": {},
   "source": [
    "#### Converting the orgname data to corresponding Apex Ministry name and storing the same in the file."
   ]
  },
  {
   "cell_type": "code",
   "execution_count": 83,
   "metadata": {},
   "outputs": [
    {
     "name": "stdout",
     "output_type": "stream",
     "text": [
      "State Bank of India\n",
      "More than one values\n",
      "State Bank of India\n",
      "More than one values\n",
      "Bank of Baroda\n",
      "More than one values\n",
      "Bank of Baroda\n",
      "More than one values\n",
      "INCOME TAX\n",
      "More than one values\n",
      "State Bank of India\n",
      "More than one values\n",
      "State Bank of India\n",
      "More than one values\n",
      "State Bank of India\n",
      "More than one values\n",
      "Bank of Baroda\n",
      "More than one values\n",
      "State Bank of India\n",
      "More than one values\n",
      "State Bank of India\n",
      "More than one values\n",
      "Bank of Maharashtra\n",
      "More than one values\n",
      "Bank of Maharashtra\n",
      "More than one values\n",
      "Central Bank of India\n",
      "More than one values\n",
      "Central Bank of India\n",
      "More than one values\n",
      "Department of Revenue\n",
      "More than one values\n",
      "State Bank of India\n",
      "More than one values\n",
      "State Bank of India\n",
      "More than one values\n",
      "Government of Uttar Pradesh\n",
      "More than one values\n",
      "Government of Uttar Pradesh\n",
      "More than one values\n",
      "Punjab National Bank\n",
      "More than one values\n",
      "State Bank of India\n",
      "More than one values\n",
      "State Bank of India\n",
      "More than one values\n",
      "INCOME TAX\n",
      "More than one values\n",
      "State Bank of India\n",
      "More than one values\n",
      "Unique Identification Authority of India\n",
      "More than one values\n",
      "INCOME TAX\n",
      "More than one values\n",
      "Government of Uttar Pradesh\n",
      "More than one values\n",
      "Government of Uttar Pradesh\n",
      "More than one values\n",
      "Government of Uttar Pradesh\n",
      "More than one values\n",
      "Government of Uttar Pradesh\n",
      "More than one values\n",
      "Department of Commerce\n",
      "More than one values\n",
      "Government of Uttar Pradesh\n",
      "More than one values\n",
      "Government of Uttar Pradesh\n",
      "More than one values\n",
      "Government of Uttar Pradesh\n",
      "More than one values\n",
      "Government of Uttar Pradesh\n",
      "More than one values\n",
      "Government of Uttar Pradesh\n",
      "More than one values\n",
      "Government of Uttar Pradesh\n",
      "More than one values\n",
      "Government of Uttar Pradesh\n",
      "More than one values\n",
      "Government of Uttar Pradesh\n",
      "More than one values\n",
      "JOINT COMMISSIONER\n",
      "More than one values\n",
      "Government of Uttar Pradesh\n",
      "More than one values\n",
      "Government of Uttar Pradesh\n",
      "More than one values\n",
      "Department of Commerce\n",
      "More than one values\n",
      "State Bank of India\n",
      "More than one values\n",
      "Government of Uttar Pradesh\n",
      "More than one values\n",
      "Government of Uttar Pradesh\n",
      "More than one values\n",
      "Government of Uttar Pradesh\n",
      "More than one values\n",
      "Government of Uttar Pradesh\n",
      "More than one values\n",
      "Government of Uttar Pradesh\n",
      "More than one values\n",
      "Government of Uttar Pradesh\n",
      "More than one values\n",
      "Government of Uttar Pradesh\n",
      "More than one values\n",
      "Department of Commerce\n",
      "More than one values\n",
      "State Bank of India\n",
      "More than one values\n",
      "Department of Commerce\n",
      "More than one values\n",
      "Government of Uttar Pradesh\n",
      "More than one values\n",
      "Government of Uttar Pradesh\n",
      "More than one values\n",
      "Department of Commerce\n",
      "More than one values\n",
      "Government of Uttar Pradesh\n",
      "More than one values\n",
      "Government of Uttar Pradesh\n",
      "More than one values\n",
      "Government of Uttar Pradesh\n",
      "More than one values\n",
      "Government of Uttar Pradesh\n",
      "More than one values\n",
      "Government of Uttar Pradesh\n",
      "More than one values\n",
      "Government of Uttar Pradesh\n",
      "More than one values\n",
      "Government of Uttar Pradesh\n",
      "More than one values\n",
      "Government of Uttar Pradesh\n",
      "More than one values\n",
      "POLICE\n",
      "More than one values\n",
      "Department of Commerce\n",
      "More than one values\n",
      "Finance Department\n",
      "More than one values\n",
      "Finance Department\n",
      "More than one values\n",
      "Finance Department\n",
      "More than one values\n",
      "Government of Uttar Pradesh\n",
      "More than one values\n",
      "Government of Uttar Pradesh\n",
      "More than one values\n",
      "State Bank of India\n",
      "More than one values\n",
      "Government of Uttar Pradesh\n",
      "More than one values\n",
      "Health and Family Welfare\n",
      "More than one values\n",
      "Health and Family Welfare\n",
      "More than one values\n",
      "PUNE\n",
      "More than one values\n",
      "PCDA PENSION\n",
      "More than one values\n",
      "State Bank of India\n",
      "More than one values\n",
      "Department of Health and Family Welfare\n",
      "More than one values\n",
      "State Bank of India\n",
      "More than one values\n",
      "HDFC BANK\n",
      "More than one values\n",
      "HDFC BANK\n",
      "More than one values\n",
      "Allahabad Bank\n",
      "More than one values\n",
      "Allahabad Bank\n",
      "More than one values\n",
      "Union Bank of India\n",
      "More than one values\n",
      "State Bank of India\n",
      "More than one values\n",
      "Allahabad Bank\n",
      "More than one values\n",
      "Allahabad Bank\n",
      "More than one values\n",
      "State Bank of India\n",
      "More than one values\n",
      "Bank of India\n",
      "More than one values\n",
      "Bank of India\n",
      "More than one values\n",
      "Bank of India\n",
      "More than one values\n",
      "Bank of India\n",
      "More than one values\n",
      "State Bank of India\n",
      "More than one values\n",
      "State Bank of India\n",
      "More than one values\n",
      "State Bank of India\n",
      "More than one values\n",
      "State Bank of India\n",
      "More than one values\n",
      "INCOME TAX\n",
      "More than one values\n",
      "State Bank of India\n",
      "More than one values\n",
      "State Bank of India\n",
      "More than one values\n",
      "Government of Uttar Pradesh\n",
      "More than one values\n",
      "Government of Uttar Pradesh\n",
      "More than one values\n",
      "Oriental Bank of Commerce\n",
      "More than one values\n",
      "State Bank of India\n",
      "More than one values\n",
      "INCOME TAX\n",
      "More than one values\n",
      "State Bank of India\n",
      "More than one values\n",
      "Government of Uttar Pradesh\n",
      "More than one values\n",
      "Government of Uttar Pradesh\n",
      "More than one values\n",
      "Government of Uttar Pradesh\n",
      "More than one values\n",
      "Government of Uttar Pradesh\n",
      "More than one values\n",
      "Government of Uttar Pradesh\n",
      "More than one values\n",
      "Government of Uttar Pradesh\n",
      "More than one values\n",
      "Government of Uttar Pradesh\n",
      "More than one values\n",
      "Government of Uttar Pradesh\n",
      "More than one values\n",
      "Government of Uttar Pradesh\n",
      "More than one values\n",
      "Government of Uttar Pradesh\n",
      "More than one values\n",
      "Reserve Bank of India\n",
      "More than one values\n",
      "Department of Commerce\n",
      "More than one values\n",
      "Government of Uttar Pradesh\n",
      "More than one values\n",
      "Government of Uttar Pradesh\n",
      "More than one values\n",
      "Government of Uttar Pradesh\n",
      "More than one values\n",
      "Government of Uttar Pradesh\n",
      "More than one values\n",
      "Government of Uttar Pradesh\n",
      "More than one values\n",
      "Department of Commerce\n",
      "More than one values\n",
      "Government of Uttar Pradesh\n",
      "More than one values\n",
      "Government of Uttar Pradesh\n",
      "More than one values\n",
      "Government of Uttar Pradesh\n",
      "More than one values\n",
      "Government of Uttar Pradesh\n",
      "More than one values\n",
      "Government of Uttar Pradesh\n",
      "More than one values\n",
      "Reserve Bank of India\n",
      "More than one values\n",
      "Reserve Bank of India\n",
      "More than one values\n",
      "JAMMU\n",
      "More than one values\n",
      "DCP North East\n",
      "More than one values\n",
      "DCP North East\n",
      "More than one values\n",
      "DCP North East\n",
      "More than one values\n",
      "Department of Higher Education\n",
      "More than one values\n",
      "Medical Division\n",
      "More than one values\n",
      "DCP North East\n",
      "More than one values\n",
      "DCP North East\n",
      "More than one values\n",
      "Securities and Exchange Board of India\n",
      "More than one values\n",
      "DCP East\n",
      "More than one values\n",
      "DCP East\n",
      "More than one values\n",
      "DCP East\n",
      "More than one values\n",
      "Securities and Exchange Board of India\n",
      "More than one values\n",
      "ICICI BANK\n",
      "More than one values\n",
      "ICICI BANK\n",
      "More than one values\n",
      "State Bank of India\n",
      "More than one values\n",
      "DCP East\n",
      "More than one values\n",
      "State Bank of India\n",
      "More than one values\n",
      "Union Bank of India\n",
      "More than one values\n",
      "Union Bank of India\n",
      "More than one values\n",
      "State Bank of India\n",
      "More than one values\n",
      "Department of Health and Family Welfare\n",
      "More than one values\n",
      "Delhi Division\n",
      "More than one values\n",
      "State Bank of India\n",
      "More than one values\n",
      "Securities and Exchange Board of India\n",
      "More than one values\n",
      "Indian Bank\n",
      "More than one values\n",
      "ICICI BANK\n",
      "More than one values\n",
      "ICICI BANK\n",
      "More than one values\n",
      "State Bank of India\n",
      "More than one values\n",
      "DCP South\n",
      "More than one values\n",
      "DCP New Delhi\n",
      "More than one values\n",
      "State Bank of India\n",
      "More than one values\n",
      "State Bank of India\n",
      "More than one values\n",
      "State Bank of India\n",
      "More than one values\n",
      "State Bank of India\n",
      "More than one values\n",
      "Regional Office Ranchi\n",
      "More than one values\n",
      "Government of Uttar Pradesh\n",
      "More than one values\n",
      "Government of Uttar Pradesh\n",
      "More than one values\n",
      "State Bank of India\n",
      "More than one values\n",
      "State Bank of India\n",
      "More than one values\n",
      "State Bank of India\n",
      "More than one values\n",
      "Reserve Bank of India\n",
      "More than one values\n",
      "State Bank of India\n",
      "More than one values\n",
      "INCOME TAX\n",
      "More than one values\n",
      "Department of Higher Education\n",
      "More than one values\n",
      "State Bank of India\n",
      "More than one values\n",
      "State Bank of India\n",
      "More than one values\n",
      "State Bank of India\n",
      "More than one values\n",
      "INCOME TAX\n",
      "More than one values\n",
      "Department of Commerce\n",
      "More than one values\n",
      "Department of Commerce\n",
      "More than one values\n",
      "Pay and Accounts Office\n",
      "More than one values\n",
      "State Bank of India\n",
      "More than one values\n",
      "Government of Uttar Pradesh\n",
      "More than one values\n",
      "Government of Uttar Pradesh\n",
      "More than one values\n",
      "Finance Department\n",
      "More than one values\n",
      "INCOME TAX\n",
      "More than one values\n",
      "Reserve Bank of India\n",
      "More than one values\n"
     ]
    },
    {
     "name": "stdout",
     "output_type": "stream",
     "text": [
      "State Bank of India\n",
      "More than one values\n",
      "Punjab National Bank\n",
      "More than one values\n",
      "State Bank of India\n",
      "More than one values\n",
      "State Bank of India\n",
      "More than one values\n"
     ]
    }
   ],
   "source": [
    "#find out what is the 'Apex Ministry/Dept/State' and 'Parent of Organisation'\n",
    "#print(new_EAOL_df['org_name'], \" : \", data_NodalOfficer_Details['org_name'])\n",
    "new_OrgName_df = []\n",
    "new_Apex_org = []\n",
    "no_department_found = []\n",
    "for org_name in selected_action_req_data['org_name']:\n",
    "    #print(org_name)\n",
    "    temp = data_NodalOfficer_Details.loc[(data_NodalOfficer_Details['org_name']== org_name),['Apex Ministry/Dept/State','Parent of Organisation']]\n",
    "    if len(temp) == 0:\n",
    "        #need to store and continue : \n",
    "        #This means we could not find the corresponding apex dept name in the NodelOfficer file\n",
    "        no_department_found.append(org_name)\n",
    "        continue\n",
    "    if len(temp['Apex Ministry/Dept/State'].unique()) >1:\n",
    "     # to know which ones have multiple Parent dept name.\n",
    "        print(org_name)\n",
    "        #print(temp)\n",
    "        print(\"More than one values\")\n",
    "        #break\n",
    "    new_OrgName_df.append(temp['Parent of Organisation'].values)\n",
    "    new_Apex_org.append(temp['Apex Ministry/Dept/State'].values[0])\n",
    "    #new_OrgName_df.append(data_NodalOfficer_Details[(data_NodalOfficer_Details['org_name']== org_name)], ignore_index = True)"
   ]
  },
  {
   "cell_type": "code",
   "execution_count": 84,
   "metadata": {},
   "outputs": [
    {
     "data": {
      "text/plain": [
       "array(['Central Board of Direct Taxes (Income Tax)'], dtype=object)"
      ]
     },
     "execution_count": 84,
     "metadata": {},
     "output_type": "execute_result"
    }
   ],
   "source": [
    "temp['Apex Ministry/Dept/State'].unique()"
   ]
  },
  {
   "cell_type": "code",
   "execution_count": 85,
   "metadata": {},
   "outputs": [
    {
     "name": "stdout",
     "output_type": "stream",
     "text": [
      "31247\n",
      "31247\n"
     ]
    },
    {
     "data": {
      "text/plain": [
       "(31247, 8)"
      ]
     },
     "execution_count": 85,
     "metadata": {},
     "output_type": "execute_result"
    }
   ],
   "source": [
    "print(len(new_OrgName_df))\n",
    "print(len(new_Apex_org))\n",
    "selected_action_req_data.shape"
   ]
  },
  {
   "cell_type": "code",
   "execution_count": 86,
   "metadata": {},
   "outputs": [],
   "source": [
    "selected_action_req_data['Parent_org_name'] = new_OrgName_df\n",
    "selected_action_req_data['Apex_org_name'] = new_Apex_org"
   ]
  },
  {
   "cell_type": "code",
   "execution_count": 90,
   "metadata": {},
   "outputs": [],
   "source": [
    "## This file stores the \n",
    "## Caution : Please ensure you want to overwrite this file.\n",
    "selected_action_req_data.to_csv(\"./../Data/processed_selected_action.csv\", header=True,index=False)"
   ]
  },
  {
   "cell_type": "code",
   "execution_count": 91,
   "metadata": {},
   "outputs": [
    {
     "data": {
      "text/plain": [
       "Index(['Unnamed: 0', 'action_name', 'action_srno', 'date_of_action',\n",
       "       'org_name', 'org_name2', 'registration_no', 'remarks',\n",
       "       'Parent_org_name', 'Apex_org_name'],\n",
       "      dtype='object')"
      ]
     },
     "execution_count": 91,
     "metadata": {},
     "output_type": "execute_result"
    }
   ],
   "source": [
    "selected_action_req_data.columns"
   ]
  },
  {
   "cell_type": "code",
   "execution_count": 92,
   "metadata": {},
   "outputs": [
    {
     "data": {
      "text/plain": [
       "17666"
      ]
     },
     "execution_count": 92,
     "metadata": {},
     "output_type": "execute_result"
    }
   ],
   "source": [
    "len(selected_action_req_data['registration_no'].unique())"
   ]
  },
  {
   "cell_type": "code",
   "execution_count": 93,
   "metadata": {},
   "outputs": [
    {
     "data": {
      "text/plain": [
       "(31247, 10)"
      ]
     },
     "execution_count": 93,
     "metadata": {},
     "output_type": "execute_result"
    }
   ],
   "source": [
    "selected_action_req_data.shape"
   ]
  },
  {
   "cell_type": "code",
   "execution_count": 96,
   "metadata": {},
   "outputs": [],
   "source": [
    "reg_group = selected_action_req_data.groupby('registration_no')"
   ]
  },
  {
   "cell_type": "code",
   "execution_count": 100,
   "metadata": {},
   "outputs": [
    {
     "data": {
      "text/plain": [
       "<pandas.core.groupby.generic.DataFrameGroupBy object at 0x1195cbe10>"
      ]
     },
     "execution_count": 100,
     "metadata": {},
     "output_type": "execute_result"
    }
   ],
   "source": [
    "reg_group.get_group('')"
   ]
  },
  {
   "cell_type": "code",
   "execution_count": null,
   "metadata": {},
   "outputs": [],
   "source": []
  }
 ],
 "metadata": {
  "kernelspec": {
   "display_name": "Python 3",
   "language": "python",
   "name": "python3"
  },
  "language_info": {
   "codemirror_mode": {
    "name": "ipython",
    "version": 3
   },
   "file_extension": ".py",
   "mimetype": "text/x-python",
   "name": "python",
   "nbconvert_exporter": "python",
   "pygments_lexer": "ipython3",
   "version": "3.7.3"
  }
 },
 "nbformat": 4,
 "nbformat_minor": 2
}
